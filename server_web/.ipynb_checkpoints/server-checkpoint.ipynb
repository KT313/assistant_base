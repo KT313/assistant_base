{
 "cells": [
  {
   "cell_type": "code",
   "execution_count": null,
   "id": "23f25fc2-f7c8-48d0-89e7-7d210cff4a03",
   "metadata": {},
   "outputs": [],
   "source": [
    "from flask import Flask, render_template, request, jsonify\n",
    "import requests"
   ]
  },
  {
   "cell_type": "code",
   "execution_count": null,
   "id": "6d14dd52-4415-447c-8b68-278b4ba62129",
   "metadata": {},
   "outputs": [],
   "source": [
    "app = Flask(__name__)\n",
    "\n",
    "@app.route('/')\n",
    "def index():\n",
    "    return render_template('index.html')\n",
    "\n",
    "@app.route('/get_init_text')\n",
    "def get_init_text():\n",
    "    returned_content = [\n",
    "        {'role': 'System', 'content': 'Hello, I am the system.'},\n",
    "    ]\n",
    "    return jsonify({'status': 'success', 'returned_content': returned_content})\n",
    "\n",
    "@app.route('/send_user_msg', methods=['POST'])\n",
    "def send_user_msg():\n",
    "    data = request.get_json()\n",
    "    user = data['user']\n",
    "    content = data['content']\n",
    "\n",
    "    url = f\"http://127.0.0.1:10000/infer\"\n",
    "    data_to_send = {}\n",
    "    data_to_send['content'] = content\n",
    "    data_to_send['use_image'] = False\n",
    "    response = requests.post(url, json=data_to_send)    \n",
    "    ai_reply = response.json()['returned_content']\n",
    "    \n",
    "    returned_content = [\n",
    "        {'role': 'User', 'content': content},\n",
    "        {'role': 'AI', 'content': \"\\n\".join(ai_reply)}\n",
    "    ]\n",
    "    print(f\"Received text from {user}: {content}\")\n",
    "    return jsonify({'status': 'success', 'returned_content': returned_content})\n",
    "\n",
    "if __name__ == '__main__':\n",
    "    app.run(port=14000)"
   ]
  },
  {
   "cell_type": "code",
   "execution_count": null,
   "id": "ea69ba85-3356-442a-9def-5aba91b0fe6f",
   "metadata": {},
   "outputs": [],
   "source": []
  }
 ],
 "metadata": {
  "kernelspec": {
   "display_name": "Python 3 (ipykernel)",
   "language": "python",
   "name": "python3"
  },
  "language_info": {
   "codemirror_mode": {
    "name": "ipython",
    "version": 3
   },
   "file_extension": ".py",
   "mimetype": "text/x-python",
   "name": "python",
   "nbconvert_exporter": "python",
   "pygments_lexer": "ipython3",
   "version": "3.11.0"
  }
 },
 "nbformat": 4,
 "nbformat_minor": 5
}
