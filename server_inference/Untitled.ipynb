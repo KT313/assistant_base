{
 "cells": [
  {
   "cell_type": "code",
   "execution_count": 2,
   "id": "7af88bc7-4192-4aa8-b1b4-e04a59b01a53",
   "metadata": {},
   "outputs": [
    {
     "name": "stderr",
     "output_type": "stream",
     "text": [
      "Special tokens have been added in the vocabulary, make sure the associated word embeddings are fine-tuned or trained.\n",
      "Special tokens have been added in the vocabulary, make sure the associated word embeddings are fine-tuned or trained.\n",
      "/home/tobi/miniconda3/envs/assba/lib/python3.11/site-packages/scipy/__init__.py:155: UserWarning: A NumPy version >=1.18.5 and <1.26.0 is required for this version of SciPy (detected version 1.26.4\n",
      "  warnings.warn(f\"A NumPy version >={np_minversion} and <{np_maxversion}\"\n"
     ]
    }
   ],
   "source": [
    "from lib.imports import *"
   ]
  },
  {
   "cell_type": "code",
   "execution_count": null,
   "id": "d3596ca2-4819-4db4-82f1-cdec4fe5e857",
   "metadata": {},
   "outputs": [],
   "source": [
    "model = og.Model(\"../../../models/text_to_text/Phi-3-mini-128k-instruct-onnx/cuda/cuda-fp16\")\n",
    "tokenizer = og.Tokenizer(model).create_stream()"
   ]
  },
  {
   "cell_type": "code",
   "execution_count": null,
   "id": "e6fa4bc2-aa5f-4b0c-999d-71fc6d8560a5",
   "metadata": {},
   "outputs": [],
   "source": []
  }
 ],
 "metadata": {
  "kernelspec": {
   "display_name": "Python 3 (ipykernel)",
   "language": "python",
   "name": "python3"
  },
  "language_info": {
   "codemirror_mode": {
    "name": "ipython",
    "version": 3
   },
   "file_extension": ".py",
   "mimetype": "text/x-python",
   "name": "python",
   "nbconvert_exporter": "python",
   "pygments_lexer": "ipython3",
   "version": "3.11.0"
  }
 },
 "nbformat": 4,
 "nbformat_minor": 5
}
